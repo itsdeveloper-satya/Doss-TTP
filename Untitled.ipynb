{
 "cells": [
  {
   "cell_type": "code",
   "execution_count": 1,
   "id": "86f02047",
   "metadata": {},
   "outputs": [
    {
     "name": "stdout",
     "output_type": "stream",
     "text": [
      "Sum of  34 and 45 is 79\n"
     ]
    }
   ],
   "source": [
    "a = 34\n",
    "b = 45\n",
    "total = a + b\n",
    "print(\"Sum of \", a, \"and\", b,  \"is\", total)"
   ]
  },
  {
   "cell_type": "code",
   "execution_count": 2,
   "id": "a769233d",
   "metadata": {},
   "outputs": [
    {
     "name": "stdout",
     "output_type": "stream",
     "text": [
      "random Number:  36\n"
     ]
    }
   ],
   "source": [
    "import random\n",
    "num = random.randint(1, 100)\n",
    "print(\"random Number: \", num)"
   ]
  },
  {
   "cell_type": "code",
   "execution_count": 3,
   "id": "ab4513a7",
   "metadata": {},
   "outputs": [],
   "source": [
    "import math"
   ]
  },
  {
   "cell_type": "code",
   "execution_count": 4,
   "id": "4d482dba",
   "metadata": {},
   "outputs": [
    {
     "name": "stdout",
     "output_type": "stream",
     "text": [
      "Enter a number: 49\n"
     ]
    }
   ],
   "source": [
    "user_input = input(\"Enter a number: \")"
   ]
  },
  {
   "cell_type": "code",
   "execution_count": 5,
   "id": "47b28d27",
   "metadata": {},
   "outputs": [
    {
     "name": "stdout",
     "output_type": "stream",
     "text": [
      "7.0\n"
     ]
    }
   ],
   "source": [
    "number = float(user_input)\n",
    "sqrt_rt = math.sqrt(number)\n",
    "print(sqrt_rt)"
   ]
  }
 ],
 "metadata": {
  "kernelspec": {
   "display_name": "Python 3 (ipykernel)",
   "language": "python",
   "name": "python3"
  },
  "language_info": {
   "codemirror_mode": {
    "name": "ipython",
    "version": 3
   },
   "file_extension": ".py",
   "mimetype": "text/x-python",
   "name": "python",
   "nbconvert_exporter": "python",
   "pygments_lexer": "ipython3",
   "version": "3.11.4"
  }
 },
 "nbformat": 4,
 "nbformat_minor": 5
}

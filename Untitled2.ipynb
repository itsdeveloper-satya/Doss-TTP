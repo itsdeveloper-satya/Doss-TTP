{
 "cells": [
  {
   "cell_type": "code",
   "execution_count": 1,
   "id": "236b027c",
   "metadata": {},
   "outputs": [],
   "source": [
    "import os"
   ]
  },
  {
   "cell_type": "code",
   "execution_count": null,
   "id": "5c32c4e9",
   "metadata": {},
   "outputs": [
    {
     "name": "stdout",
     "output_type": "stream",
     "text": [
      "\n",
      "    1. Notepad\n",
      "    2. Calculator\n",
      "    3. mspaint\n",
      "    4. cmd\n",
      "    5. camera\n",
      "    Select an Option:\n",
      "\n"
     ]
    }
   ],
   "source": [
    "print(\"\"\"\n",
    "    1. Notepad\n",
    "    2. Calculator\n",
    "    3. mspaint\n",
    "    4. cmd\n",
    "    5. camera\n",
    "    Select an Option:\n",
    "\"\"\")\n",
    "\n",
    "program_list = ['notepad','calculator','mspaint', 'cmd', 'camera']\n",
    "\n",
    "choice = int(input())\n",
    "\n",
    "os.system(program_list[choice-1])"
   ]
  },
  {
   "cell_type": "code",
   "execution_count": 1,
   "id": "52dc7995",
   "metadata": {},
   "outputs": [],
   "source": [
    "import os"
   ]
  },
  {
   "cell_type": "code",
   "execution_count": null,
   "id": "28f7df64",
   "metadata": {
    "scrolled": false
   },
   "outputs": [
    {
     "name": "stdout",
     "output_type": "stream",
     "text": [
      "\n",
      "    1. Notepad\n",
      "    2. Camera\n",
      "    3. Paint\n",
      "    4. Calculator\n",
      "    5. Command Promt\n",
      "    Select an Option:\n",
      "\n"
     ]
    }
   ],
   "source": [
    "print(\"\"\"\n",
    "    1. Notepad\n",
    "    2. Camera\n",
    "    3. Paint\n",
    "    4. Calculator\n",
    "    5. Command Promt\n",
    "    Select an Option:\n",
    "\"\"\")\n",
    "\n",
    "choice = input()\n",
    "\n",
    "option = int(choice)\n",
    "\n",
    "app_list= [\"notepad\", \"camera\", \"mspaint\", \"calculator\", \"cmd\"]\n",
    "\n",
    "os.system(app_list[option-1])"
   ]
  },
  {
   "cell_type": "code",
   "execution_count": 1,
   "id": "462d2fe6",
   "metadata": {},
   "outputs": [],
   "source": [
    "import numpy as np"
   ]
  },
  {
   "cell_type": "code",
   "execution_count": 3,
   "id": "831757e2",
   "metadata": {},
   "outputs": [],
   "source": [
    "trainees = [\n",
    "    [\"Nishant\", 2345, \"CSE\"],\n",
    "    [\"Pallavi\", 7343, \"AI&ML\"],\n",
    "    [\"Altaf\", 7654, \"CSE\"],\n",
    "    [\"satish\", 8763, \"AI&DS\"]\n",
    "]"
   ]
  },
  {
   "cell_type": "code",
   "execution_count": 4,
   "id": "de90363a",
   "metadata": {},
   "outputs": [],
   "source": [
    "a = np.array(trainees)"
   ]
  },
  {
   "cell_type": "code",
   "execution_count": 5,
   "id": "1160332a",
   "metadata": {},
   "outputs": [
    {
     "data": {
      "text/plain": [
       "array([['Nishant', '2345', 'CSE'],\n",
       "       ['Pallavi', '7343', 'AI&ML'],\n",
       "       ['Altaf', '7654', 'CSE'],\n",
       "       ['satish', '8763', 'AI&DS']], dtype='<U11')"
      ]
     },
     "execution_count": 5,
     "metadata": {},
     "output_type": "execute_result"
    }
   ],
   "source": [
    "a"
   ]
  },
  {
   "cell_type": "code",
   "execution_count": 6,
   "id": "0512b85c",
   "metadata": {},
   "outputs": [
    {
     "data": {
      "text/plain": [
       "array(['Pallavi', '7343', 'AI&ML'], dtype='<U11')"
      ]
     },
     "execution_count": 6,
     "metadata": {},
     "output_type": "execute_result"
    }
   ],
   "source": [
    "a[1]"
   ]
  },
  {
   "cell_type": "code",
   "execution_count": 8,
   "id": "8d98d94a",
   "metadata": {},
   "outputs": [
    {
     "data": {
      "text/plain": [
       "array([['Pallavi', '7343', 'AI&ML'],\n",
       "       ['Altaf', '7654', 'CSE']], dtype='<U11')"
      ]
     },
     "execution_count": 8,
     "metadata": {},
     "output_type": "execute_result"
    }
   ],
   "source": [
    "a[1:3]"
   ]
  },
  {
   "cell_type": "code",
   "execution_count": 10,
   "id": "05f07f8f",
   "metadata": {},
   "outputs": [],
   "source": [
    "friends = [\n",
    "    [\"Arshad\",\"Ashrafi\",\"+917946357854\", \"Kanpur\"],\n",
    "    [\"Nishant\", \"Dixit\", \"+91732564865\", \"Rae Barelli\"],\n",
    "    [\"Altaf\", \"Raza\", \"+916398564423\", \"Vanarsi\"],\n",
    "    [\"Suryansh\", \"Mishra\", \"+917965432756\", \"Vanarsi\"],\n",
    "    [\"Rahul\",\"Yadav\",\"+917946357854\", \"Kanpur\"],\n",
    "    [\"Hasnain\", \"Haider\", \"+91732564865\", \"Rae Barelli\"],\n",
    "    [\"Tasleem\", \"Raza\", \"+916398564423\", \"Vanarsi\"],\n",
    "    [\"Shailja\", \"Mishra\", \"+917965432756\", \"Vanarsi\"],\n",
    "    [\"Anas\", \"Siddiqui\", \"+916398564423\", \"Vanarsi\"],\n",
    "    [\"Rajan\", \"Mishra\", \"+917965432756\", \"Vanarsi\"],\n",
    "    \n",
    "]"
   ]
  },
  {
   "cell_type": "code",
   "execution_count": 11,
   "id": "f3f9ba07",
   "metadata": {},
   "outputs": [],
   "source": [
    "friend = np.array(friends)"
   ]
  },
  {
   "cell_type": "code",
   "execution_count": 18,
   "id": "dc274f6f",
   "metadata": {},
   "outputs": [
    {
     "data": {
      "text/plain": [
       "array([['Yadav', 'Kanpur'],\n",
       "       ['Haider', 'Rae Barelli'],\n",
       "       ['Raza', 'Vanarsi'],\n",
       "       ['Mishra', 'Vanarsi'],\n",
       "       ['Siddiqui', 'Vanarsi']], dtype='<U13')"
      ]
     },
     "execution_count": 18,
     "metadata": {},
     "output_type": "execute_result"
    }
   ],
   "source": [
    "friend[4:9,1:4:2]"
   ]
  },
  {
   "cell_type": "code",
   "execution_count": 19,
   "id": "55a9cd4c",
   "metadata": {},
   "outputs": [],
   "source": [
    "line = \"we are creators and innovators\""
   ]
  },
  {
   "cell_type": "code",
   "execution_count": 21,
   "id": "cbd5aea3",
   "metadata": {},
   "outputs": [
    {
     "data": {
      "text/plain": [
       "'creators '"
      ]
     },
     "execution_count": 21,
     "metadata": {},
     "output_type": "execute_result"
    }
   ],
   "source": [
    "line[7:16]"
   ]
  },
  {
   "cell_type": "code",
   "execution_count": null,
   "id": "c094c12b",
   "metadata": {},
   "outputs": [],
   "source": []
  }
 ],
 "metadata": {
  "kernelspec": {
   "display_name": "Python 3 (ipykernel)",
   "language": "python",
   "name": "python3"
  },
  "language_info": {
   "codemirror_mode": {
    "name": "ipython",
    "version": 3
   },
   "file_extension": ".py",
   "mimetype": "text/x-python",
   "name": "python",
   "nbconvert_exporter": "python",
   "pygments_lexer": "ipython3",
   "version": "3.11.4"
  }
 },
 "nbformat": 4,
 "nbformat_minor": 5
}
